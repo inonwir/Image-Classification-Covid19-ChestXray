{
  "nbformat": 4,
  "nbformat_minor": 0,
  "metadata": {
    "colab": {
      "name": "Covid-19 Chest x-ray 2.ipynb",
      "provenance": [],
      "collapsed_sections": []
    },
    "kernelspec": {
      "name": "python3",
      "display_name": "Python 3"
    },
    "accelerator": "GPU"
  },
  "cells": [
    {
      "cell_type": "markdown",
      "metadata": {
        "id": "5monbUqY_A-M",
        "colab_type": "text"
      },
      "source": [
        "https://www.kaggle.com/tawsifurrahman/covid19-radiography-database/data\n",
        "\n",
        "\n",
        "https://colab.research.google.com/drive/1WVKhxnCpGilNSYH_RXelVBMbJ20Xt7WJ\n",
        "\n",
        "https://towardsdatascience.com/transfer-learning-from-pre-trained-models-f2393f124751\n",
        "\n",
        "\n",
        "\n"
      ]
    },
    {
      "cell_type": "code",
      "metadata": {
        "id": "ZrYHgpvw-_Cx",
        "colab_type": "code",
        "colab": {}
      },
      "source": [
        "import numpy as np\n",
        "import pandas as pd\n",
        "import matplotlib.pyplot as plt\n",
        "import tensorflow as tf\n",
        "\n",
        "from sklearn.model_selection import train_test_split\n",
        "from tensorflow.keras.models import Sequential, Model\n",
        "from tensorflow.keras.layers import  Dropout, Dense,GlobalMaxPooling2D, AveragePooling2D, Flatten\n",
        "from tensorflow.keras.layers import Conv2D, MaxPooling2D\n",
        "from tensorflow.keras.applications import VGG16, InceptionV3\n",
        "from tensorflow.keras import optimizers\n",
        "from sklearn.metrics import classification_report, confusion_matrix"
      ],
      "execution_count": 0,
      "outputs": []
    },
    {
      "cell_type": "code",
      "metadata": {
        "id": "monbS4-CrxsG",
        "colab_type": "code",
        "colab": {}
      },
      "source": [
        "def plot_acc_loss(result, epochs):\n",
        "    acc = result.history['accuracy']\n",
        "    loss = result.history['loss']\n",
        "    val_acc = result.history['val_accuracy']\n",
        "    val_loss = result.history['val_loss']\n",
        "    plt.figure(figsize=(15, 5))\n",
        "    plt.subplot(121)\n",
        "    plt.plot(range(1,epochs), acc[1:], label='Train_acc')\n",
        "    plt.plot(range(1,epochs), val_acc[1:], label='Test_acc')\n",
        "    plt.title('Accuracy over ' + str(epochs) + ' Epochs', size=15)\n",
        "    plt.legend()\n",
        "    plt.grid(True)\n",
        "    plt.subplot(122)\n",
        "    plt.plot(range(1,epochs), loss[1:], label='Train_loss')\n",
        "    plt.plot(range(1,epochs), val_loss[1:], label='Test_loss')\n",
        "    plt.title('Loss over ' + str(epochs) + ' Epochs', size=15)\n",
        "    plt.legend()\n",
        "    plt.grid(True)\n",
        "    plt.show()\n",
        "    "
      ],
      "execution_count": 0,
      "outputs": []
    },
    {
      "cell_type": "code",
      "metadata": {
        "id": "-pwwfeqWAeap",
        "colab_type": "code",
        "outputId": "b1f8aa58-cf30-44d9-c4d2-f2f17773080e",
        "colab": {
          "base_uri": "https://localhost:8080/",
          "height": 124
        }
      },
      "source": [
        "from google.colab import drive\n",
        "drive.mount('/content/gdrive')"
      ],
      "execution_count": 0,
      "outputs": [
        {
          "output_type": "stream",
          "text": [
            "Go to this URL in a browser: https://accounts.google.com/o/oauth2/auth?client_id=947318989803-6bn6qk8qdgf4n4g3pfee6491hc0brc4i.apps.googleusercontent.com&redirect_uri=urn%3aietf%3awg%3aoauth%3a2.0%3aoob&response_type=code&scope=email%20https%3a%2f%2fwww.googleapis.com%2fauth%2fdocs.test%20https%3a%2f%2fwww.googleapis.com%2fauth%2fdrive%20https%3a%2f%2fwww.googleapis.com%2fauth%2fdrive.photos.readonly%20https%3a%2f%2fwww.googleapis.com%2fauth%2fpeopleapi.readonly\n",
            "\n",
            "Enter your authorization code:\n",
            "··········\n",
            "Mounted at /content/gdrive\n"
          ],
          "name": "stdout"
        }
      ]
    },
    {
      "cell_type": "code",
      "metadata": {
        "id": "Q_AX4R5FAggm",
        "colab_type": "code",
        "colab": {}
      },
      "source": [
        "mypath = '/content/gdrive/My Drive/Colab Notebooks/COVID-19 Radiography Database/'"
      ],
      "execution_count": 0,
      "outputs": []
    },
    {
      "cell_type": "code",
      "metadata": {
        "id": "IJ8laOS4Bsz4",
        "colab_type": "code",
        "colab": {}
      },
      "source": [
        "# In Python, the glob module is used to retrieve files/pathnames matching a specified pattern.\n",
        "from glob import glob\n",
        "import cv2"
      ],
      "execution_count": 0,
      "outputs": []
    },
    {
      "cell_type": "code",
      "metadata": {
        "id": "1mBVQyN2C07V",
        "colab_type": "code",
        "colab": {}
      },
      "source": [
        "filenames = glob(mypath + 'COVID-19/' + '*.png')\n",
        "np.random.shuffle(filenames)\n",
        "covid_images = [cv2.resize(cv2.imread(img), (224,224)) for img in filenames]"
      ],
      "execution_count": 0,
      "outputs": []
    },
    {
      "cell_type": "code",
      "metadata": {
        "id": "Z0gHzC5zDMwJ",
        "colab_type": "code",
        "colab": {}
      },
      "source": [
        "filenames = glob(mypath + 'NORMAL/' + '*.png')\n",
        "np.random.shuffle(filenames)\n",
        "normal_images = [cv2.resize(cv2.imread(img), (224,224)) for img in filenames[:219]]"
      ],
      "execution_count": 0,
      "outputs": []
    },
    {
      "cell_type": "code",
      "metadata": {
        "id": "J2JrzcXzDNCi",
        "colab_type": "code",
        "colab": {}
      },
      "source": [
        "filenames = glob(mypath + 'Viral Pneumonia/' + '*.png')\n",
        "np.random.shuffle(filenames)\n",
        "pneu_images = [cv2.resize(cv2.imread(img), (224,224)) for img in filenames[:219]]"
      ],
      "execution_count": 0,
      "outputs": []
    },
    {
      "cell_type": "markdown",
      "metadata": {
        "id": "BJtS_BTOUlfL",
        "colab_type": "text"
      },
      "source": [
        "# Convolutional Neural Network for 2-class Classification"
      ]
    },
    {
      "cell_type": "code",
      "metadata": {
        "id": "fW89krdQYsZJ",
        "colab_type": "code",
        "colab": {}
      },
      "source": [
        "X = np.array(normal_images + covid_images).astype('float32')/255\n",
        "Y = np.array([0]*219 + [1]*219)\n",
        "#Y = tf.keras.utils.to_categorical(Y, num_classes=2)"
      ],
      "execution_count": 0,
      "outputs": []
    },
    {
      "cell_type": "code",
      "metadata": {
        "id": "Zgnf2cquYugG",
        "colab_type": "code",
        "colab": {}
      },
      "source": [
        "x_train, x_test, y_train, y_test = train_test_split(X, Y, test_size=0.3, random_state=42)"
      ],
      "execution_count": 0,
      "outputs": []
    },
    {
      "cell_type": "code",
      "metadata": {
        "id": "2GoeepM4VLHL",
        "colab_type": "code",
        "colab": {}
      },
      "source": [
        "model = Sequential()\n",
        "model.add(Conv2D(64,(5,5), activation='relu',input_shape=(224,224,3)))\n",
        "model.add(MaxPooling2D((2, 2)))\n",
        "model.add(Conv2D(32, (5, 5), activation='relu'))\n",
        "model.add(MaxPooling2D((2, 2)))\n",
        "model.add(Flatten())\n",
        "model.add(Dropout(0.1))\n",
        "model.add(Dense(2, activation='softmax'))"
      ],
      "execution_count": 0,
      "outputs": []
    },
    {
      "cell_type": "code",
      "metadata": {
        "id": "7ylSmI7FY_2-",
        "colab_type": "code",
        "outputId": "77191352-2770-45e8-e707-ffbe27af5403",
        "colab": {
          "base_uri": "https://localhost:8080/",
          "height": 399
        }
      },
      "source": [
        "model.compile(loss=tf.keras.losses.sparse_categorical_crossentropy, optimizer=tf.keras.optimizers.Adam(lr=0.0001, decay=1e-6),  metrics=['accuracy'])\n",
        "model.summary()"
      ],
      "execution_count": 0,
      "outputs": [
        {
          "output_type": "stream",
          "text": [
            "Model: \"sequential\"\n",
            "_________________________________________________________________\n",
            "Layer (type)                 Output Shape              Param #   \n",
            "=================================================================\n",
            "conv2d (Conv2D)              (None, 220, 220, 64)      4864      \n",
            "_________________________________________________________________\n",
            "max_pooling2d (MaxPooling2D) (None, 110, 110, 64)      0         \n",
            "_________________________________________________________________\n",
            "conv2d_1 (Conv2D)            (None, 106, 106, 32)      51232     \n",
            "_________________________________________________________________\n",
            "max_pooling2d_1 (MaxPooling2 (None, 53, 53, 32)        0         \n",
            "_________________________________________________________________\n",
            "flatten (Flatten)            (None, 89888)             0         \n",
            "_________________________________________________________________\n",
            "dropout (Dropout)            (None, 89888)             0         \n",
            "_________________________________________________________________\n",
            "dense (Dense)                (None, 2)                 179778    \n",
            "=================================================================\n",
            "Total params: 235,874\n",
            "Trainable params: 235,874\n",
            "Non-trainable params: 0\n",
            "_________________________________________________________________\n"
          ],
          "name": "stdout"
        }
      ]
    },
    {
      "cell_type": "code",
      "metadata": {
        "id": "GUKs_nArZFJW",
        "colab_type": "code",
        "outputId": "6c20d89b-192d-4139-b218-2474eec93c46",
        "colab": {
          "base_uri": "https://localhost:8080/",
          "height": 1000
        }
      },
      "source": [
        "history = model.fit(x_train, y_train, batch_size=10, epochs=30, verbose=1, validation_split=0.2)"
      ],
      "execution_count": 0,
      "outputs": [
        {
          "output_type": "stream",
          "text": [
            "Epoch 1/30\n",
            "25/25 [==============================] - 1s 27ms/step - loss: 0.6582 - accuracy: 0.5902 - val_loss: 0.4794 - val_accuracy: 0.9194\n",
            "Epoch 2/30\n",
            "25/25 [==============================] - 0s 17ms/step - loss: 0.3600 - accuracy: 0.9016 - val_loss: 0.2937 - val_accuracy: 0.8387\n",
            "Epoch 3/30\n",
            "25/25 [==============================] - 0s 17ms/step - loss: 0.2384 - accuracy: 0.8934 - val_loss: 0.1799 - val_accuracy: 0.9516\n",
            "Epoch 4/30\n",
            "25/25 [==============================] - 0s 18ms/step - loss: 0.1467 - accuracy: 0.9426 - val_loss: 0.1547 - val_accuracy: 0.9355\n",
            "Epoch 5/30\n",
            "25/25 [==============================] - 0s 17ms/step - loss: 0.0999 - accuracy: 0.9754 - val_loss: 0.1341 - val_accuracy: 0.9677\n",
            "Epoch 6/30\n",
            "25/25 [==============================] - 0s 17ms/step - loss: 0.0983 - accuracy: 0.9590 - val_loss: 0.1511 - val_accuracy: 0.9677\n",
            "Epoch 7/30\n",
            "25/25 [==============================] - 0s 17ms/step - loss: 0.0768 - accuracy: 0.9672 - val_loss: 0.1773 - val_accuracy: 0.9516\n",
            "Epoch 8/30\n",
            "25/25 [==============================] - 0s 17ms/step - loss: 0.0716 - accuracy: 0.9836 - val_loss: 0.1323 - val_accuracy: 0.9677\n",
            "Epoch 9/30\n",
            "25/25 [==============================] - 0s 17ms/step - loss: 0.0469 - accuracy: 1.0000 - val_loss: 0.1202 - val_accuracy: 0.9677\n",
            "Epoch 10/30\n",
            "25/25 [==============================] - 0s 17ms/step - loss: 0.0394 - accuracy: 0.9836 - val_loss: 0.1437 - val_accuracy: 0.9516\n",
            "Epoch 11/30\n",
            "25/25 [==============================] - 0s 17ms/step - loss: 0.0651 - accuracy: 0.9795 - val_loss: 0.1544 - val_accuracy: 0.9516\n",
            "Epoch 12/30\n",
            "25/25 [==============================] - 0s 17ms/step - loss: 0.0712 - accuracy: 0.9672 - val_loss: 0.1050 - val_accuracy: 0.9677\n",
            "Epoch 13/30\n",
            "25/25 [==============================] - 0s 17ms/step - loss: 0.0354 - accuracy: 0.9918 - val_loss: 0.1202 - val_accuracy: 0.9677\n",
            "Epoch 14/30\n",
            "25/25 [==============================] - 0s 17ms/step - loss: 0.0311 - accuracy: 0.9877 - val_loss: 0.1051 - val_accuracy: 0.9677\n",
            "Epoch 15/30\n",
            "25/25 [==============================] - 0s 17ms/step - loss: 0.0171 - accuracy: 0.9959 - val_loss: 0.1108 - val_accuracy: 0.9677\n",
            "Epoch 16/30\n",
            "25/25 [==============================] - 0s 17ms/step - loss: 0.0126 - accuracy: 1.0000 - val_loss: 0.1111 - val_accuracy: 0.9677\n",
            "Epoch 17/30\n",
            "25/25 [==============================] - 0s 18ms/step - loss: 0.0099 - accuracy: 1.0000 - val_loss: 0.1317 - val_accuracy: 0.9677\n",
            "Epoch 18/30\n",
            "25/25 [==============================] - 0s 17ms/step - loss: 0.0095 - accuracy: 1.0000 - val_loss: 0.1391 - val_accuracy: 0.9677\n",
            "Epoch 19/30\n",
            "25/25 [==============================] - 0s 17ms/step - loss: 0.0067 - accuracy: 1.0000 - val_loss: 0.1398 - val_accuracy: 0.9677\n",
            "Epoch 20/30\n",
            "25/25 [==============================] - 0s 17ms/step - loss: 0.0059 - accuracy: 1.0000 - val_loss: 0.1206 - val_accuracy: 0.9677\n",
            "Epoch 21/30\n",
            "25/25 [==============================] - 0s 17ms/step - loss: 0.0061 - accuracy: 1.0000 - val_loss: 0.1226 - val_accuracy: 0.9677\n",
            "Epoch 22/30\n",
            "25/25 [==============================] - 0s 17ms/step - loss: 0.0045 - accuracy: 1.0000 - val_loss: 0.1296 - val_accuracy: 0.9677\n",
            "Epoch 23/30\n",
            "25/25 [==============================] - 0s 17ms/step - loss: 0.0039 - accuracy: 1.0000 - val_loss: 0.1476 - val_accuracy: 0.9677\n",
            "Epoch 24/30\n",
            "25/25 [==============================] - 0s 17ms/step - loss: 0.0044 - accuracy: 1.0000 - val_loss: 0.1184 - val_accuracy: 0.9839\n",
            "Epoch 25/30\n",
            "25/25 [==============================] - 0s 17ms/step - loss: 0.0048 - accuracy: 1.0000 - val_loss: 0.1322 - val_accuracy: 0.9677\n",
            "Epoch 26/30\n",
            "25/25 [==============================] - 0s 17ms/step - loss: 0.0031 - accuracy: 1.0000 - val_loss: 0.1372 - val_accuracy: 0.9677\n",
            "Epoch 27/30\n",
            "25/25 [==============================] - 0s 17ms/step - loss: 0.0025 - accuracy: 1.0000 - val_loss: 0.1619 - val_accuracy: 0.9677\n",
            "Epoch 28/30\n",
            "25/25 [==============================] - 0s 17ms/step - loss: 0.0061 - accuracy: 1.0000 - val_loss: 0.1499 - val_accuracy: 0.9677\n",
            "Epoch 29/30\n",
            "25/25 [==============================] - 0s 17ms/step - loss: 0.0026 - accuracy: 1.0000 - val_loss: 0.1265 - val_accuracy: 0.9677\n",
            "Epoch 30/30\n",
            "25/25 [==============================] - 0s 17ms/step - loss: 0.0024 - accuracy: 1.0000 - val_loss: 0.1850 - val_accuracy: 0.9677\n"
          ],
          "name": "stdout"
        }
      ]
    },
    {
      "cell_type": "code",
      "metadata": {
        "id": "GjGE1HAwZgVP",
        "colab_type": "code",
        "outputId": "63443d3b-fd61-47ce-d0d3-f6d4d2e62e3a",
        "colab": {
          "base_uri": "https://localhost:8080/",
          "height": 52
        }
      },
      "source": [
        "model.evaluate(x_test, y_test)"
      ],
      "execution_count": 0,
      "outputs": [
        {
          "output_type": "stream",
          "text": [
            "5/5 [==============================] - 0s 13ms/step - loss: 0.0980 - accuracy: 0.9545\n"
          ],
          "name": "stdout"
        },
        {
          "output_type": "execute_result",
          "data": {
            "text/plain": [
              "[0.09795182198286057, 0.9545454382896423]"
            ]
          },
          "metadata": {
            "tags": []
          },
          "execution_count": 14
        }
      ]
    },
    {
      "cell_type": "code",
      "metadata": {
        "id": "vFDe72KkZl0S",
        "colab_type": "code",
        "outputId": "b0d83069-c43c-438e-c4fc-27eac56d65f7",
        "colab": {
          "base_uri": "https://localhost:8080/",
          "height": 338
        }
      },
      "source": [
        "plot_acc_loss(history, 30)"
      ],
      "execution_count": 0,
      "outputs": [
        {
          "output_type": "display_data",
          "data": {
            "image/png": "[encoded data removed]",
            "text/plain": [
              "<Figure size 1080x360 with 2 Axes>"
            ]
          },
          "metadata": {
            "tags": [],
            "needs_background": "light"
          }
        }
      ]
    },
    {
      "cell_type": "markdown",
      "metadata": {
        "id": "szMPnZ_gkTRp",
        "colab_type": "text"
      },
      "source": [
        "#  Convolutional Neural Network for 3-class Classification"
      ]
    },
    {
      "cell_type": "code",
      "metadata": {
        "id": "SCk1kH1xkXiZ",
        "colab_type": "code",
        "colab": {}
      },
      "source": [
        "X = np.array(normal_images + covid_images + pneu_images).astype('float32')/255\n",
        "Y = np.array([0]*219 + [1]*219 + [2]*219)\n",
        "#Y = tf.keras.utils.to_categorical(Y, num_classes=2)"
      ],
      "execution_count": 0,
      "outputs": []
    },
    {
      "cell_type": "code",
      "metadata": {
        "id": "MiDBxTBfkm1N",
        "colab_type": "code",
        "colab": {}
      },
      "source": [
        "x_train, x_test, y_train, y_test = train_test_split(X, Y, test_size=0.3, random_state=42)"
      ],
      "execution_count": 0,
      "outputs": []
    },
    {
      "cell_type": "code",
      "metadata": {
        "id": "y1Ds2JdnkqFt",
        "colab_type": "code",
        "colab": {}
      },
      "source": [
        "model = Sequential()\n",
        "model.add(Conv2D(64,(5,5), activation='relu',input_shape=(224,224,3)))\n",
        "model.add(MaxPooling2D((2, 2)))\n",
        "model.add(Conv2D(32, (5, 5), activation='relu'))\n",
        "model.add(MaxPooling2D((2, 2)))\n",
        "model.add(Flatten())\n",
        "model.add(Dense(16, activation='relu'))\n",
        "model.add(Dropout(0.1))\n",
        "model.add(Dense(3, activation='softmax'))"
      ],
      "execution_count": 0,
      "outputs": []
    },
    {
      "cell_type": "code",
      "metadata": {
        "id": "ShZFahUfkuOR",
        "colab_type": "code",
        "outputId": "9a9cec98-33d4-45f5-f173-9bbeee38acab",
        "colab": {
          "base_uri": "https://localhost:8080/",
          "height": 433
        }
      },
      "source": [
        "model.compile(loss=tf.keras.losses.sparse_categorical_crossentropy, optimizer=tf.keras.optimizers.Adam(lr=0.0001, decay=1e-6),  metrics=['accuracy'])\n",
        "model.summary()"
      ],
      "execution_count": 0,
      "outputs": [
        {
          "output_type": "stream",
          "text": [
            "Model: \"sequential_13\"\n",
            "_________________________________________________________________\n",
            "Layer (type)                 Output Shape              Param #   \n",
            "=================================================================\n",
            "conv2d_26 (Conv2D)           (None, 220, 220, 64)      4864      \n",
            "_________________________________________________________________\n",
            "max_pooling2d_26 (MaxPooling (None, 110, 110, 64)      0         \n",
            "_________________________________________________________________\n",
            "conv2d_27 (Conv2D)           (None, 106, 106, 32)      51232     \n",
            "_________________________________________________________________\n",
            "max_pooling2d_27 (MaxPooling (None, 53, 53, 32)        0         \n",
            "_________________________________________________________________\n",
            "flatten_13 (Flatten)         (None, 89888)             0         \n",
            "_________________________________________________________________\n",
            "dense_24 (Dense)             (None, 16)                1438224   \n",
            "_________________________________________________________________\n",
            "dropout_13 (Dropout)         (None, 16)                0         \n",
            "_________________________________________________________________\n",
            "dense_25 (Dense)             (None, 3)                 51        \n",
            "=================================================================\n",
            "Total params: 1,494,371\n",
            "Trainable params: 1,494,371\n",
            "Non-trainable params: 0\n",
            "_________________________________________________________________\n"
          ],
          "name": "stdout"
        }
      ]
    },
    {
      "cell_type": "code",
      "metadata": {
        "id": "cL6b2X8vkuSm",
        "colab_type": "code",
        "outputId": "ce652d73-64ec-4713-d34a-bdb78ba1a768",
        "colab": {
          "base_uri": "https://localhost:8080/",
          "height": 1000
        }
      },
      "source": [
        "history = model.fit(x_train, y_train, batch_size=20, epochs=50, verbose=1, validation_split=0.2)"
      ],
      "execution_count": 0,
      "outputs": [
        {
          "output_type": "stream",
          "text": [
            "Epoch 1/50\n",
            "19/19 [==============================] - 1s 33ms/step - loss: 1.0130 - accuracy: 0.4469 - val_loss: 0.9207 - val_accuracy: 0.5000\n",
            "Epoch 2/50\n",
            "19/19 [==============================] - 1s 28ms/step - loss: 0.8544 - accuracy: 0.5777 - val_loss: 0.7636 - val_accuracy: 0.5326\n",
            "Epoch 3/50\n",
            "19/19 [==============================] - 1s 28ms/step - loss: 0.7390 - accuracy: 0.6567 - val_loss: 0.6756 - val_accuracy: 0.7065\n",
            "Epoch 4/50\n",
            "19/19 [==============================] - 1s 29ms/step - loss: 0.6615 - accuracy: 0.6975 - val_loss: 0.5845 - val_accuracy: 0.7826\n",
            "Epoch 5/50\n",
            "19/19 [==============================] - 1s 28ms/step - loss: 0.6175 - accuracy: 0.7330 - val_loss: 0.6298 - val_accuracy: 0.7391\n",
            "Epoch 6/50\n",
            "19/19 [==============================] - 1s 29ms/step - loss: 0.4795 - accuracy: 0.8229 - val_loss: 0.4268 - val_accuracy: 0.8478\n",
            "Epoch 7/50\n",
            "19/19 [==============================] - 1s 29ms/step - loss: 0.4534 - accuracy: 0.8311 - val_loss: 0.4253 - val_accuracy: 0.8696\n",
            "Epoch 8/50\n",
            "19/19 [==============================] - 1s 28ms/step - loss: 0.3840 - accuracy: 0.8692 - val_loss: 0.4864 - val_accuracy: 0.8370\n",
            "Epoch 9/50\n",
            "19/19 [==============================] - 1s 28ms/step - loss: 0.3924 - accuracy: 0.8256 - val_loss: 0.4242 - val_accuracy: 0.8370\n",
            "Epoch 10/50\n",
            "19/19 [==============================] - 1s 28ms/step - loss: 0.3394 - accuracy: 0.8828 - val_loss: 0.4069 - val_accuracy: 0.8587\n",
            "Epoch 11/50\n",
            "19/19 [==============================] - 1s 29ms/step - loss: 0.2752 - accuracy: 0.8965 - val_loss: 0.4404 - val_accuracy: 0.8261\n",
            "Epoch 12/50\n",
            "19/19 [==============================] - 1s 28ms/step - loss: 0.3209 - accuracy: 0.8883 - val_loss: 0.3356 - val_accuracy: 0.8804\n",
            "Epoch 13/50\n",
            "19/19 [==============================] - 1s 28ms/step - loss: 0.2391 - accuracy: 0.9292 - val_loss: 0.2853 - val_accuracy: 0.9022\n",
            "Epoch 14/50\n",
            "19/19 [==============================] - 1s 28ms/step - loss: 0.2134 - accuracy: 0.9319 - val_loss: 0.4415 - val_accuracy: 0.8478\n",
            "Epoch 15/50\n",
            "19/19 [==============================] - 1s 29ms/step - loss: 0.2149 - accuracy: 0.9292 - val_loss: 0.3595 - val_accuracy: 0.8587\n",
            "Epoch 16/50\n",
            "19/19 [==============================] - 1s 29ms/step - loss: 0.2005 - accuracy: 0.9373 - val_loss: 0.2988 - val_accuracy: 0.8913\n",
            "Epoch 17/50\n",
            "19/19 [==============================] - 1s 29ms/step - loss: 0.1847 - accuracy: 0.9455 - val_loss: 0.2736 - val_accuracy: 0.8913\n",
            "Epoch 18/50\n",
            "19/19 [==============================] - 1s 28ms/step - loss: 0.1550 - accuracy: 0.9673 - val_loss: 0.3302 - val_accuracy: 0.9022\n",
            "Epoch 19/50\n",
            "19/19 [==============================] - 1s 28ms/step - loss: 0.1477 - accuracy: 0.9401 - val_loss: 0.2659 - val_accuracy: 0.9022\n",
            "Epoch 20/50\n",
            "19/19 [==============================] - 1s 29ms/step - loss: 0.1397 - accuracy: 0.9455 - val_loss: 0.3227 - val_accuracy: 0.8696\n",
            "Epoch 21/50\n",
            "19/19 [==============================] - 1s 29ms/step - loss: 0.1326 - accuracy: 0.9700 - val_loss: 0.2614 - val_accuracy: 0.9130\n",
            "Epoch 22/50\n",
            "19/19 [==============================] - 1s 29ms/step - loss: 0.1353 - accuracy: 0.9591 - val_loss: 0.2939 - val_accuracy: 0.9130\n",
            "Epoch 23/50\n",
            "19/19 [==============================] - 1s 29ms/step - loss: 0.1276 - accuracy: 0.9591 - val_loss: 0.2925 - val_accuracy: 0.9239\n",
            "Epoch 24/50\n",
            "19/19 [==============================] - 1s 28ms/step - loss: 0.1374 - accuracy: 0.9619 - val_loss: 0.2767 - val_accuracy: 0.9239\n",
            "Epoch 25/50\n",
            "19/19 [==============================] - 1s 28ms/step - loss: 0.0903 - accuracy: 0.9782 - val_loss: 0.3966 - val_accuracy: 0.8804\n",
            "Epoch 26/50\n",
            "19/19 [==============================] - 1s 29ms/step - loss: 0.1173 - accuracy: 0.9591 - val_loss: 0.3215 - val_accuracy: 0.8696\n",
            "Epoch 27/50\n",
            "19/19 [==============================] - 1s 29ms/step - loss: 0.0774 - accuracy: 0.9864 - val_loss: 0.2783 - val_accuracy: 0.9239\n",
            "Epoch 28/50\n",
            "19/19 [==============================] - 1s 28ms/step - loss: 0.0936 - accuracy: 0.9755 - val_loss: 0.3588 - val_accuracy: 0.8913\n",
            "Epoch 29/50\n",
            "19/19 [==============================] - 1s 28ms/step - loss: 0.0908 - accuracy: 0.9673 - val_loss: 0.3512 - val_accuracy: 0.8804\n",
            "Epoch 30/50\n",
            "19/19 [==============================] - 1s 28ms/step - loss: 0.0897 - accuracy: 0.9673 - val_loss: 0.3616 - val_accuracy: 0.9022\n",
            "Epoch 31/50\n",
            "19/19 [==============================] - 1s 29ms/step - loss: 0.1160 - accuracy: 0.9619 - val_loss: 0.2667 - val_accuracy: 0.9130\n",
            "Epoch 32/50\n",
            "19/19 [==============================] - 1s 29ms/step - loss: 0.0834 - accuracy: 0.9755 - val_loss: 0.2384 - val_accuracy: 0.9348\n",
            "Epoch 33/50\n",
            "19/19 [==============================] - 1s 28ms/step - loss: 0.0701 - accuracy: 0.9809 - val_loss: 0.2470 - val_accuracy: 0.9348\n",
            "Epoch 34/50\n",
            "19/19 [==============================] - 1s 28ms/step - loss: 0.0633 - accuracy: 0.9755 - val_loss: 0.3138 - val_accuracy: 0.9239\n",
            "Epoch 35/50\n",
            "19/19 [==============================] - 1s 29ms/step - loss: 0.0703 - accuracy: 0.9755 - val_loss: 0.2954 - val_accuracy: 0.9239\n",
            "Epoch 36/50\n",
            "19/19 [==============================] - 1s 28ms/step - loss: 0.0802 - accuracy: 0.9782 - val_loss: 0.2992 - val_accuracy: 0.9239\n",
            "Epoch 37/50\n",
            "19/19 [==============================] - 1s 28ms/step - loss: 0.1135 - accuracy: 0.9673 - val_loss: 0.2528 - val_accuracy: 0.9348\n",
            "Epoch 38/50\n",
            "19/19 [==============================] - 1s 28ms/step - loss: 0.0973 - accuracy: 0.9755 - val_loss: 0.2489 - val_accuracy: 0.9239\n",
            "Epoch 39/50\n",
            "19/19 [==============================] - 1s 29ms/step - loss: 0.0799 - accuracy: 0.9728 - val_loss: 0.2395 - val_accuracy: 0.9348\n",
            "Epoch 40/50\n",
            "19/19 [==============================] - 1s 28ms/step - loss: 0.0627 - accuracy: 0.9755 - val_loss: 0.3392 - val_accuracy: 0.9348\n",
            "Epoch 41/50\n",
            "19/19 [==============================] - 1s 29ms/step - loss: 0.0758 - accuracy: 0.9837 - val_loss: 0.2829 - val_accuracy: 0.9239\n",
            "Epoch 42/50\n",
            "19/19 [==============================] - 1s 28ms/step - loss: 0.0505 - accuracy: 0.9809 - val_loss: 0.3277 - val_accuracy: 0.9239\n",
            "Epoch 43/50\n",
            "19/19 [==============================] - 1s 28ms/step - loss: 0.0680 - accuracy: 0.9864 - val_loss: 0.3244 - val_accuracy: 0.9130\n",
            "Epoch 44/50\n",
            "19/19 [==============================] - 1s 28ms/step - loss: 0.0382 - accuracy: 0.9891 - val_loss: 0.3386 - val_accuracy: 0.9239\n",
            "Epoch 45/50\n",
            "19/19 [==============================] - 1s 28ms/step - loss: 0.0503 - accuracy: 0.9809 - val_loss: 0.3097 - val_accuracy: 0.9239\n",
            "Epoch 46/50\n",
            "19/19 [==============================] - 1s 28ms/step - loss: 0.0591 - accuracy: 0.9728 - val_loss: 0.3675 - val_accuracy: 0.9022\n",
            "Epoch 47/50\n",
            "19/19 [==============================] - 1s 29ms/step - loss: 0.0670 - accuracy: 0.9864 - val_loss: 0.3543 - val_accuracy: 0.8804\n",
            "Epoch 48/50\n",
            "19/19 [==============================] - 1s 28ms/step - loss: 0.0613 - accuracy: 0.9864 - val_loss: 0.3300 - val_accuracy: 0.9239\n",
            "Epoch 49/50\n",
            "19/19 [==============================] - 1s 28ms/step - loss: 0.0563 - accuracy: 0.9782 - val_loss: 0.4030 - val_accuracy: 0.8913\n",
            "Epoch 50/50\n",
            "19/19 [==============================] - 1s 29ms/step - loss: 0.0540 - accuracy: 0.9891 - val_loss: 0.3114 - val_accuracy: 0.9348\n"
          ],
          "name": "stdout"
        }
      ]
    },
    {
      "cell_type": "code",
      "metadata": {
        "id": "Y7aIVzoekur9",
        "colab_type": "code",
        "outputId": "a259841e-1b31-4c05-92c5-746804ff3842",
        "colab": {
          "base_uri": "https://localhost:8080/",
          "height": 52
        }
      },
      "source": [
        "model.evaluate(x_test, y_test)"
      ],
      "execution_count": 0,
      "outputs": [
        {
          "output_type": "stream",
          "text": [
            "7/7 [==============================] - 0s 13ms/step - loss: 0.3797 - accuracy: 0.9192\n"
          ],
          "name": "stdout"
        },
        {
          "output_type": "execute_result",
          "data": {
            "text/plain": [
              "[0.37968382239341736, 0.9191918969154358]"
            ]
          },
          "metadata": {
            "tags": []
          },
          "execution_count": 87
        }
      ]
    },
    {
      "cell_type": "code",
      "metadata": {
        "id": "Y00K9B1_k5No",
        "colab_type": "code",
        "outputId": "3286e21b-6484-4029-ebd4-98371cb9e62c",
        "colab": {
          "base_uri": "https://localhost:8080/",
          "height": 338
        }
      },
      "source": [
        "plot_acc_loss(history, 50)"
      ],
      "execution_count": 0,
      "outputs": [
        {
          "output_type": "display_data",
          "data": {
            "image/png": "[encoded data removed]",
            "text/plain": [
              "<Figure size 1080x360 with 2 Axes>"
            ]
          },
          "metadata": {
            "tags": [],
            "needs_background": "light"
          }
        }
      ]
    },
    {
      "cell_type": "markdown",
      "metadata": {
        "id": "xWO9OWDCEuHx",
        "colab_type": "text"
      },
      "source": [
        "# Binary Classification Between Normal and COVID-19\n",
        "\n",
        "\n",
        "*   0 -> normal\n",
        "*   1 -> covid-19\n",
        "\n"
      ]
    },
    {
      "cell_type": "code",
      "metadata": {
        "id": "1yrOBGw7D66m",
        "colab_type": "code",
        "colab": {}
      },
      "source": [
        "X = np.array(normal_images + covid_images).astype('float32')/255\n",
        "Y = np.array([0]*219 + [1]*219)\n",
        "#Y = tf.keras.utils.to_categorical(Y, num_classes=2)"
      ],
      "execution_count": 0,
      "outputs": []
    },
    {
      "cell_type": "code",
      "metadata": {
        "id": "YPIca_VzEZ7t",
        "colab_type": "code",
        "colab": {}
      },
      "source": [
        "x_train, x_test, y_train, y_test = train_test_split(X, Y, test_size=0.3, random_state=42)"
      ],
      "execution_count": 0,
      "outputs": []
    },
    {
      "cell_type": "code",
      "metadata": {
        "id": "5npTLtlBGtQX",
        "colab_type": "code",
        "colab": {}
      },
      "source": [
        "pre_trained_model = VGG16(input_shape=(224,224,3), include_top=False, weights=\"imagenet\")"
      ],
      "execution_count": 0,
      "outputs": []
    },
    {
      "cell_type": "code",
      "metadata": {
        "id": "TD9ArUq5Gvr5",
        "colab_type": "code",
        "colab": {}
      },
      "source": [
        "for layer in pre_trained_model.layers[:15]:\n",
        "    layer.trainable = False\n",
        "\n",
        "for layer in pre_trained_model.layers[15:]:\n",
        "    layer.trainable = True"
      ],
      "execution_count": 0,
      "outputs": []
    },
    {
      "cell_type": "markdown",
      "metadata": {
        "id": "m4NYuCNfunVL",
        "colab_type": "text"
      },
      "source": [
        "We cannot say that a particular pooling method is better over other generally. The choice of pooling operation is made based on the data at hand. Average pooling method smooths out the image and hence the sharp features may not be identified when this pooling method is used.\n",
        "Max pooling selects the brighter pixels from the image. It is useful when the background of the image is dark and we are interested in only the lighter pixels of the image. For example: in MNIST dataset, the digits are represented in white color and the background is black. So, max pooling is used. Similarly, min pooling is used in the other way round."
      ]
    },
    {
      "cell_type": "code",
      "metadata": {
        "id": "ujhtYcc1IwvB",
        "colab_type": "code",
        "outputId": "3acbfb67-23ff-4657-f008-b208570661e9",
        "colab": {
          "base_uri": "https://localhost:8080/",
          "height": 1000
        }
      },
      "source": [
        "last_layer = pre_trained_model.get_layer('block5_pool')\n",
        "last_output = last_layer.output\n",
        "\n",
        "# Flatten the output layer to 1 dimension\n",
        "x = GlobalMaxPooling2D()(last_output)\n",
        "#x = AveragePooling2D(pool_size=(4, 4))(last_output)\n",
        "# Add a fully connected layer with  ReLU activation\n",
        "x = Dense(128, activation='relu')(x)\n",
        "x = Dropout(0.25)(x)\n",
        "x = Dense(64, activation='relu')(x)\n",
        "x = Dropout(0.25)(x)\n",
        "# Add a final softmax layer for classification\n",
        "x = Dense(2, activation='softmax')(x)\n",
        "\n",
        "model = tf.keras.models.Model(pre_trained_model.input, x)\n",
        "#model.compile(loss=keras.losses.categorical_crossentropy, optimizer=keras.optimizers.Adam(),  metrics=['accuracy'])\n",
        "#model.compile(loss=tf.keras.losses.categorical_crossentropy, optimizer=tf.keras.optimizers.RMSprop(lr=0.0001, decay=1e-6),  metrics=['accuracy'])\n",
        "#model.compile(loss=tf.keras.losses.sparse_categorical_crossentropy, optimizer=tf.keras.optimizers.RMSprop(lr=0.0001, decay=1e-6),  metrics=['accuracy'])\n",
        "model.compile(loss=tf.keras.losses.sparse_categorical_crossentropy, optimizer=tf.keras.optimizers.Adam(lr=0.0001, decay=1e-6),  metrics=['accuracy'])\n",
        "model.summary()"
      ],
      "execution_count": 0,
      "outputs": [
        {
          "output_type": "stream",
          "text": [
            "Model: \"model_2\"\n",
            "_________________________________________________________________\n",
            "Layer (type)                 Output Shape              Param #   \n",
            "=================================================================\n",
            "input_3 (InputLayer)         [(None, 224, 224, 3)]     0         \n",
            "_________________________________________________________________\n",
            "block1_conv1 (Conv2D)        (None, 224, 224, 64)      1792      \n",
            "_________________________________________________________________\n",
            "block1_conv2 (Conv2D)        (None, 224, 224, 64)      36928     \n",
            "_________________________________________________________________\n",
            "block1_pool (MaxPooling2D)   (None, 112, 112, 64)      0         \n",
            "_________________________________________________________________\n",
            "block2_conv1 (Conv2D)        (None, 112, 112, 128)     73856     \n",
            "_________________________________________________________________\n",
            "block2_conv2 (Conv2D)        (None, 112, 112, 128)     147584    \n",
            "_________________________________________________________________\n",
            "block2_pool (MaxPooling2D)   (None, 56, 56, 128)       0         \n",
            "_________________________________________________________________\n",
            "block3_conv1 (Conv2D)        (None, 56, 56, 256)       295168    \n",
            "_________________________________________________________________\n",
            "block3_conv2 (Conv2D)        (None, 56, 56, 256)       590080    \n",
            "_________________________________________________________________\n",
            "block3_conv3 (Conv2D)        (None, 56, 56, 256)       590080    \n",
            "_________________________________________________________________\n",
            "block3_pool (MaxPooling2D)   (None, 28, 28, 256)       0         \n",
            "_________________________________________________________________\n",
            "block4_conv1 (Conv2D)        (None, 28, 28, 512)       1180160   \n",
            "_________________________________________________________________\n",
            "block4_conv2 (Conv2D)        (None, 28, 28, 512)       2359808   \n",
            "_________________________________________________________________\n",
            "block4_conv3 (Conv2D)        (None, 28, 28, 512)       2359808   \n",
            "_________________________________________________________________\n",
            "block4_pool (MaxPooling2D)   (None, 14, 14, 512)       0         \n",
            "_________________________________________________________________\n",
            "block5_conv1 (Conv2D)        (None, 14, 14, 512)       2359808   \n",
            "_________________________________________________________________\n",
            "block5_conv2 (Conv2D)        (None, 14, 14, 512)       2359808   \n",
            "_________________________________________________________________\n",
            "block5_conv3 (Conv2D)        (None, 14, 14, 512)       2359808   \n",
            "_________________________________________________________________\n",
            "block5_pool (MaxPooling2D)   (None, 7, 7, 512)         0         \n",
            "_________________________________________________________________\n",
            "global_max_pooling2d_2 (Glob (None, 512)               0         \n",
            "_________________________________________________________________\n",
            "dense_32 (Dense)             (None, 128)               65664     \n",
            "_________________________________________________________________\n",
            "dropout_18 (Dropout)         (None, 128)               0         \n",
            "_________________________________________________________________\n",
            "dense_33 (Dense)             (None, 64)                8256      \n",
            "_________________________________________________________________\n",
            "dropout_19 (Dropout)         (None, 64)                0         \n",
            "_________________________________________________________________\n",
            "dense_34 (Dense)             (None, 2)                 130       \n",
            "=================================================================\n",
            "Total params: 14,788,738\n",
            "Trainable params: 7,153,474\n",
            "Non-trainable params: 7,635,264\n",
            "_________________________________________________________________\n"
          ],
          "name": "stdout"
        }
      ]
    },
    {
      "cell_type": "code",
      "metadata": {
        "id": "ID4WGxsLJCUj",
        "colab_type": "code",
        "outputId": "ac3079a9-1788-4082-ea4f-8d24db140b59",
        "colab": {
          "base_uri": "https://localhost:8080/",
          "height": 1000
        }
      },
      "source": [
        "history = model.fit(x_train, y_train, batch_size=10, epochs=30, verbose=1, validation_split=0.2)"
      ],
      "execution_count": 0,
      "outputs": [
        {
          "output_type": "stream",
          "text": [
            "Epoch 1/30\n",
            "25/25 [==============================] - 1s 55ms/step - loss: 0.2823 - accuracy: 0.8689 - val_loss: 0.0909 - val_accuracy: 0.9839\n",
            "Epoch 2/30\n",
            "25/25 [==============================] - 1s 48ms/step - loss: 0.0725 - accuracy: 0.9672 - val_loss: 0.3671 - val_accuracy: 0.8548\n",
            "Epoch 3/30\n",
            "25/25 [==============================] - 1s 48ms/step - loss: 0.0570 - accuracy: 0.9836 - val_loss: 0.0617 - val_accuracy: 0.9516\n",
            "Epoch 4/30\n",
            "25/25 [==============================] - 1s 48ms/step - loss: 0.0514 - accuracy: 0.9918 - val_loss: 0.0374 - val_accuracy: 0.9839\n",
            "Epoch 5/30\n",
            "25/25 [==============================] - 1s 48ms/step - loss: 0.0090 - accuracy: 1.0000 - val_loss: 0.0228 - val_accuracy: 1.0000\n",
            "Epoch 6/30\n",
            "25/25 [==============================] - 1s 48ms/step - loss: 0.0077 - accuracy: 1.0000 - val_loss: 0.0043 - val_accuracy: 1.0000\n",
            "Epoch 7/30\n",
            "25/25 [==============================] - 1s 48ms/step - loss: 0.0032 - accuracy: 1.0000 - val_loss: 0.0030 - val_accuracy: 1.0000\n",
            "Epoch 8/30\n",
            "25/25 [==============================] - 1s 48ms/step - loss: 0.0013 - accuracy: 1.0000 - val_loss: 9.3736e-04 - val_accuracy: 1.0000\n",
            "Epoch 9/30\n",
            "25/25 [==============================] - 1s 48ms/step - loss: 0.0018 - accuracy: 1.0000 - val_loss: 0.0025 - val_accuracy: 1.0000\n",
            "Epoch 10/30\n",
            "25/25 [==============================] - 1s 48ms/step - loss: 0.0018 - accuracy: 1.0000 - val_loss: 6.9092e-04 - val_accuracy: 1.0000\n",
            "Epoch 11/30\n",
            "25/25 [==============================] - 1s 48ms/step - loss: 8.1508e-04 - accuracy: 1.0000 - val_loss: 2.0058e-04 - val_accuracy: 1.0000\n",
            "Epoch 12/30\n",
            "25/25 [==============================] - 1s 48ms/step - loss: 0.0360 - accuracy: 0.9836 - val_loss: 0.0455 - val_accuracy: 0.9677\n",
            "Epoch 13/30\n",
            "25/25 [==============================] - 1s 48ms/step - loss: 0.0146 - accuracy: 0.9959 - val_loss: 0.0060 - val_accuracy: 1.0000\n",
            "Epoch 14/30\n",
            "25/25 [==============================] - 1s 48ms/step - loss: 0.0179 - accuracy: 0.9918 - val_loss: 0.0563 - val_accuracy: 0.9677\n",
            "Epoch 15/30\n",
            "25/25 [==============================] - 1s 48ms/step - loss: 0.0045 - accuracy: 1.0000 - val_loss: 0.0095 - val_accuracy: 1.0000\n",
            "Epoch 16/30\n",
            "25/25 [==============================] - 1s 48ms/step - loss: 1.9412e-04 - accuracy: 1.0000 - val_loss: 0.0013 - val_accuracy: 1.0000\n",
            "Epoch 17/30\n",
            "25/25 [==============================] - 1s 48ms/step - loss: 2.0708e-04 - accuracy: 1.0000 - val_loss: 1.6862e-04 - val_accuracy: 1.0000\n",
            "Epoch 18/30\n",
            "25/25 [==============================] - 1s 48ms/step - loss: 1.8070e-04 - accuracy: 1.0000 - val_loss: 1.1011e-04 - val_accuracy: 1.0000\n",
            "Epoch 19/30\n",
            "25/25 [==============================] - 1s 48ms/step - loss: 0.0027 - accuracy: 1.0000 - val_loss: 3.3713e-04 - val_accuracy: 1.0000\n",
            "Epoch 20/30\n",
            "25/25 [==============================] - 1s 48ms/step - loss: 3.4020e-04 - accuracy: 1.0000 - val_loss: 1.5074e-05 - val_accuracy: 1.0000\n",
            "Epoch 21/30\n",
            "25/25 [==============================] - 1s 48ms/step - loss: 4.1906e-04 - accuracy: 1.0000 - val_loss: 1.7141e-05 - val_accuracy: 1.0000\n",
            "Epoch 22/30\n",
            "25/25 [==============================] - 1s 47ms/step - loss: 4.5492e-05 - accuracy: 1.0000 - val_loss: 9.0880e-06 - val_accuracy: 1.0000\n",
            "Epoch 23/30\n",
            "25/25 [==============================] - 1s 48ms/step - loss: 4.2713e-04 - accuracy: 1.0000 - val_loss: 2.5697e-05 - val_accuracy: 1.0000\n",
            "Epoch 24/30\n",
            "25/25 [==============================] - 1s 48ms/step - loss: 3.8037e-05 - accuracy: 1.0000 - val_loss: 1.6735e-05 - val_accuracy: 1.0000\n",
            "Epoch 25/30\n",
            "25/25 [==============================] - 1s 48ms/step - loss: 2.0762e-04 - accuracy: 1.0000 - val_loss: 8.1169e-06 - val_accuracy: 1.0000\n",
            "Epoch 26/30\n",
            "25/25 [==============================] - 1s 48ms/step - loss: 3.0617e-05 - accuracy: 1.0000 - val_loss: 7.1618e-06 - val_accuracy: 1.0000\n",
            "Epoch 27/30\n",
            "25/25 [==============================] - 1s 48ms/step - loss: 1.2233e-04 - accuracy: 1.0000 - val_loss: 6.5711e-06 - val_accuracy: 1.0000\n",
            "Epoch 28/30\n",
            "25/25 [==============================] - 1s 48ms/step - loss: 9.8264e-05 - accuracy: 1.0000 - val_loss: 4.0035e-06 - val_accuracy: 1.0000\n",
            "Epoch 29/30\n",
            "25/25 [==============================] - 1s 48ms/step - loss: 2.1431e-04 - accuracy: 1.0000 - val_loss: 7.0034e-06 - val_accuracy: 1.0000\n",
            "Epoch 30/30\n",
            "25/25 [==============================] - 1s 48ms/step - loss: 7.3991e-05 - accuracy: 1.0000 - val_loss: 8.1576e-06 - val_accuracy: 1.0000\n"
          ],
          "name": "stdout"
        }
      ]
    },
    {
      "cell_type": "code",
      "metadata": {
        "id": "GUk57KliJFqP",
        "colab_type": "code",
        "outputId": "829e1399-a7f4-4e10-deac-3c155b696959",
        "colab": {
          "base_uri": "https://localhost:8080/",
          "height": 52
        }
      },
      "source": [
        "model.evaluate(x_test, y_test)"
      ],
      "execution_count": 0,
      "outputs": [
        {
          "output_type": "stream",
          "text": [
            "5/5 [==============================] - 0s 51ms/step - loss: 0.0560 - accuracy: 0.9924\n"
          ],
          "name": "stdout"
        },
        {
          "output_type": "execute_result",
          "data": {
            "text/plain": [
              "[0.05596194788813591, 0.9924242496490479]"
            ]
          },
          "metadata": {
            "tags": []
          },
          "execution_count": 118
        }
      ]
    },
    {
      "cell_type": "code",
      "metadata": {
        "id": "pY8LQ7ZELuCV",
        "colab_type": "code",
        "colab": {}
      },
      "source": [
        "y_pred = np.argmax(model.predict(x_test), axis = 1)"
      ],
      "execution_count": 0,
      "outputs": []
    },
    {
      "cell_type": "code",
      "metadata": {
        "id": "k0eyiCPjMHVp",
        "colab_type": "code",
        "outputId": "12eb6b16-03cc-410e-9a3c-4cabe733d16f",
        "colab": {
          "base_uri": "https://localhost:8080/",
          "height": 208
        }
      },
      "source": [
        "print(classification_report(y_test, y_pred))\n",
        "print(confusion_matrix(y_test, y_pred))"
      ],
      "execution_count": 0,
      "outputs": [
        {
          "output_type": "stream",
          "text": [
            "              precision    recall  f1-score   support\n",
            "\n",
            "           0       0.99      1.00      0.99        70\n",
            "           1       1.00      0.98      0.99        62\n",
            "\n",
            "    accuracy                           0.99       132\n",
            "   macro avg       0.99      0.99      0.99       132\n",
            "weighted avg       0.99      0.99      0.99       132\n",
            "\n",
            "[[70  0]\n",
            " [ 1 61]]\n"
          ],
          "name": "stdout"
        }
      ]
    },
    {
      "cell_type": "code",
      "metadata": {
        "id": "9-DXdqKlMMjV",
        "colab_type": "code",
        "outputId": "dcefd6f2-d3b4-4e0b-ebf1-1c63cd411fe3",
        "colab": {
          "base_uri": "https://localhost:8080/",
          "height": 338
        }
      },
      "source": [
        "plot_acc_loss(history, len(history.epoch))"
      ],
      "execution_count": 0,
      "outputs": [
        {
          "output_type": "display_data",
          "data": {
            "image/png": "[encoded data removed]",
            "text/plain": [
              "<Figure size 1080x360 with 2 Axes>"
            ]
          },
          "metadata": {
            "tags": [],
            "needs_background": "light"
          }
        }
      ]
    },
    {
      "cell_type": "markdown",
      "metadata": {
        "colab_type": "text",
        "id": "-feuWkTCpCX9"
      },
      "source": [
        "# Classification Between Normal, COVID-19, and Pneumonia\n",
        "\n",
        "\n",
        "*   0 -> normal\n",
        "*   1 -> covid-19\n",
        "*  2 -> Pneumonia\n",
        "\n"
      ]
    },
    {
      "cell_type": "code",
      "metadata": {
        "colab_type": "code",
        "id": "hzNdKAKXpCX-",
        "colab": {}
      },
      "source": [
        "X = np.array(normal_images + covid_images + pneu_images).astype('float32')/255\n",
        "Y = np.array([0]*219 + [1]*219 + [2]*219)\n",
        "#Y = tf.keras.utils.to_categorical(Y, num_classes=2)"
      ],
      "execution_count": 0,
      "outputs": []
    },
    {
      "cell_type": "code",
      "metadata": {
        "colab_type": "code",
        "id": "f0wMnQtjpCYB",
        "colab": {}
      },
      "source": [
        "x_train, x_test, y_train, y_test = train_test_split(X, Y, test_size=0.3, random_state=42)"
      ],
      "execution_count": 0,
      "outputs": []
    },
    {
      "cell_type": "code",
      "metadata": {
        "colab_type": "code",
        "id": "Pp0kIJWrpCYD",
        "colab": {}
      },
      "source": [
        "pre_trained_model = VGG16(input_shape=(224,224,3), include_top=False, weights=\"imagenet\")"
      ],
      "execution_count": 0,
      "outputs": []
    },
    {
      "cell_type": "code",
      "metadata": {
        "colab_type": "code",
        "id": "-aSA_qYSpCYF",
        "colab": {}
      },
      "source": [
        "for layer in pre_trained_model.layers[:15]:\n",
        "    layer.trainable = False\n",
        "\n",
        "for layer in pre_trained_model.layers[15:]:\n",
        "    layer.trainable = True"
      ],
      "execution_count": 0,
      "outputs": []
    },
    {
      "cell_type": "markdown",
      "metadata": {
        "colab_type": "text",
        "id": "eT616ingpCYH"
      },
      "source": [
        "We cannot say that a particular pooling method is better over other generally. The choice of pooling operation is made based on the data at hand. Average pooling method smooths out the image and hence the sharp features may not be identified when this pooling method is used.\n",
        "Max pooling selects the brighter pixels from the image. It is useful when the background of the image is dark and we are interested in only the lighter pixels of the image. For example: in MNIST dataset, the digits are represented in white color and the background is black. So, max pooling is used. Similarly, min pooling is used in the other way round."
      ]
    },
    {
      "cell_type": "code",
      "metadata": {
        "colab_type": "code",
        "outputId": "3e8621df-7281-41d0-844f-9069b6d2fae4",
        "id": "cCLaIiY-pCYI",
        "colab": {
          "base_uri": "https://localhost:8080/",
          "height": 1000
        }
      },
      "source": [
        "last_layer = pre_trained_model.get_layer('block5_pool')\n",
        "last_output = last_layer.output\n",
        "\n",
        "# Flatten the output layer to 1 dimension\n",
        "x = GlobalMaxPooling2D()(last_output)\n",
        "#x = AveragePooling2D(pool_size=(4, 4))(last_output)\n",
        "# Add a fully connected layer with  ReLU activation\n",
        "x = Dense(128, activation='relu')(x)\n",
        "x = Dropout(0.25)(x)\n",
        "x = Dense(64, activation='relu')(x)\n",
        "x = Dropout(0.25)(x)\n",
        "# Add a final softmax layer for classification\n",
        "x = Dense(3, activation='softmax')(x)\n",
        "\n",
        "model = tf.keras.models.Model(pre_trained_model.input, x)\n",
        "#model.compile(loss=keras.losses.categorical_crossentropy, optimizer=keras.optimizers.Adam(),  metrics=['accuracy'])\n",
        "#model.compile(loss=tf.keras.losses.categorical_crossentropy, optimizer=tf.keras.optimizers.RMSprop(lr=0.0001, decay=1e-6),  metrics=['accuracy'])\n",
        "#model.compile(loss=tf.keras.losses.sparse_categorical_crossentropy, optimizer=tf.keras.optimizers.RMSprop(lr=0.0001, decay=1e-6),  metrics=['accuracy'])\n",
        "model.compile(loss=tf.keras.losses.sparse_categorical_crossentropy, optimizer=tf.keras.optimizers.Adam(lr=0.0001, decay=1e-6),  metrics=['accuracy'])\n",
        "model.summary()"
      ],
      "execution_count": 0,
      "outputs": [
        {
          "output_type": "stream",
          "text": [
            "Model: \"model_3\"\n",
            "_________________________________________________________________\n",
            "Layer (type)                 Output Shape              Param #   \n",
            "=================================================================\n",
            "input_4 (InputLayer)         [(None, 224, 224, 3)]     0         \n",
            "_________________________________________________________________\n",
            "block1_conv1 (Conv2D)        (None, 224, 224, 64)      1792      \n",
            "_________________________________________________________________\n",
            "block1_conv2 (Conv2D)        (None, 224, 224, 64)      36928     \n",
            "_________________________________________________________________\n",
            "block1_pool (MaxPooling2D)   (None, 112, 112, 64)      0         \n",
            "_________________________________________________________________\n",
            "block2_conv1 (Conv2D)        (None, 112, 112, 128)     73856     \n",
            "_________________________________________________________________\n",
            "block2_conv2 (Conv2D)        (None, 112, 112, 128)     147584    \n",
            "_________________________________________________________________\n",
            "block2_pool (MaxPooling2D)   (None, 56, 56, 128)       0         \n",
            "_________________________________________________________________\n",
            "block3_conv1 (Conv2D)        (None, 56, 56, 256)       295168    \n",
            "_________________________________________________________________\n",
            "block3_conv2 (Conv2D)        (None, 56, 56, 256)       590080    \n",
            "_________________________________________________________________\n",
            "block3_conv3 (Conv2D)        (None, 56, 56, 256)       590080    \n",
            "_________________________________________________________________\n",
            "block3_pool (MaxPooling2D)   (None, 28, 28, 256)       0         \n",
            "_________________________________________________________________\n",
            "block4_conv1 (Conv2D)        (None, 28, 28, 512)       1180160   \n",
            "_________________________________________________________________\n",
            "block4_conv2 (Conv2D)        (None, 28, 28, 512)       2359808   \n",
            "_________________________________________________________________\n",
            "block4_conv3 (Conv2D)        (None, 28, 28, 512)       2359808   \n",
            "_________________________________________________________________\n",
            "block4_pool (MaxPooling2D)   (None, 14, 14, 512)       0         \n",
            "_________________________________________________________________\n",
            "block5_conv1 (Conv2D)        (None, 14, 14, 512)       2359808   \n",
            "_________________________________________________________________\n",
            "block5_conv2 (Conv2D)        (None, 14, 14, 512)       2359808   \n",
            "_________________________________________________________________\n",
            "block5_conv3 (Conv2D)        (None, 14, 14, 512)       2359808   \n",
            "_________________________________________________________________\n",
            "block5_pool (MaxPooling2D)   (None, 7, 7, 512)         0         \n",
            "_________________________________________________________________\n",
            "global_max_pooling2d_3 (Glob (None, 512)               0         \n",
            "_________________________________________________________________\n",
            "dense_35 (Dense)             (None, 128)               65664     \n",
            "_________________________________________________________________\n",
            "dropout_20 (Dropout)         (None, 128)               0         \n",
            "_________________________________________________________________\n",
            "dense_36 (Dense)             (None, 64)                8256      \n",
            "_________________________________________________________________\n",
            "dropout_21 (Dropout)         (None, 64)                0         \n",
            "_________________________________________________________________\n",
            "dense_37 (Dense)             (None, 3)                 195       \n",
            "=================================================================\n",
            "Total params: 14,788,803\n",
            "Trainable params: 7,153,539\n",
            "Non-trainable params: 7,635,264\n",
            "_________________________________________________________________\n"
          ],
          "name": "stdout"
        }
      ]
    },
    {
      "cell_type": "code",
      "metadata": {
        "colab_type": "code",
        "outputId": "0bde6f91-800e-49ad-d5ba-aebfbb3129c9",
        "id": "WQFRJulQpCYK",
        "colab": {
          "base_uri": "https://localhost:8080/",
          "height": 1000
        }
      },
      "source": [
        "history = model.fit(x_train, y_train, batch_size=10, epochs=30, verbose=1, validation_split=0.2)"
      ],
      "execution_count": 0,
      "outputs": [
        {
          "output_type": "stream",
          "text": [
            "Epoch 1/30\n",
            "37/37 [==============================] - 2s 62ms/step - loss: 0.6544 - accuracy: 0.6948 - val_loss: 0.3415 - val_accuracy: 0.8913\n",
            "Epoch 2/30\n",
            "37/37 [==============================] - 2s 49ms/step - loss: 0.3246 - accuracy: 0.8747 - val_loss: 0.1604 - val_accuracy: 0.9457\n",
            "Epoch 3/30\n",
            "37/37 [==============================] - 2s 49ms/step - loss: 0.1459 - accuracy: 0.9373 - val_loss: 0.1470 - val_accuracy: 0.9674\n",
            "Epoch 4/30\n",
            "37/37 [==============================] - 2s 49ms/step - loss: 0.1059 - accuracy: 0.9564 - val_loss: 0.1389 - val_accuracy: 0.9457\n",
            "Epoch 5/30\n",
            "37/37 [==============================] - 2s 49ms/step - loss: 0.0862 - accuracy: 0.9782 - val_loss: 0.1734 - val_accuracy: 0.9457\n",
            "Epoch 6/30\n",
            "37/37 [==============================] - 2s 49ms/step - loss: 0.0574 - accuracy: 0.9782 - val_loss: 0.1196 - val_accuracy: 0.9674\n",
            "Epoch 7/30\n",
            "37/37 [==============================] - 2s 49ms/step - loss: 0.0237 - accuracy: 0.9918 - val_loss: 0.1128 - val_accuracy: 0.9674\n",
            "Epoch 8/30\n",
            "37/37 [==============================] - 2s 49ms/step - loss: 0.0609 - accuracy: 0.9728 - val_loss: 0.1920 - val_accuracy: 0.9239\n",
            "Epoch 9/30\n",
            "37/37 [==============================] - 2s 49ms/step - loss: 0.0302 - accuracy: 0.9946 - val_loss: 0.2864 - val_accuracy: 0.9239\n",
            "Epoch 10/30\n",
            "37/37 [==============================] - 2s 49ms/step - loss: 0.0349 - accuracy: 0.9864 - val_loss: 0.2415 - val_accuracy: 0.9348\n",
            "Epoch 11/30\n",
            "37/37 [==============================] - 2s 49ms/step - loss: 0.0624 - accuracy: 0.9755 - val_loss: 0.1930 - val_accuracy: 0.9348\n",
            "Epoch 12/30\n",
            "37/37 [==============================] - 2s 49ms/step - loss: 0.0309 - accuracy: 0.9864 - val_loss: 0.1755 - val_accuracy: 0.9348\n",
            "Epoch 13/30\n",
            "37/37 [==============================] - 2s 49ms/step - loss: 0.0107 - accuracy: 0.9946 - val_loss: 0.2082 - val_accuracy: 0.9457\n",
            "Epoch 14/30\n",
            "37/37 [==============================] - 2s 49ms/step - loss: 0.0102 - accuracy: 0.9973 - val_loss: 0.1287 - val_accuracy: 0.9457\n",
            "Epoch 15/30\n",
            "37/37 [==============================] - 2s 49ms/step - loss: 0.0104 - accuracy: 0.9973 - val_loss: 0.1467 - val_accuracy: 0.9565\n",
            "Epoch 16/30\n",
            "37/37 [==============================] - 2s 49ms/step - loss: 0.0013 - accuracy: 1.0000 - val_loss: 0.1339 - val_accuracy: 0.9674\n",
            "Epoch 17/30\n",
            "37/37 [==============================] - 2s 49ms/step - loss: 8.1527e-04 - accuracy: 1.0000 - val_loss: 0.1288 - val_accuracy: 0.9674\n",
            "Epoch 18/30\n",
            "37/37 [==============================] - 2s 49ms/step - loss: 0.0026 - accuracy: 1.0000 - val_loss: 0.1586 - val_accuracy: 0.9674\n",
            "Epoch 19/30\n",
            "37/37 [==============================] - 2s 49ms/step - loss: 0.0041 - accuracy: 0.9973 - val_loss: 0.1982 - val_accuracy: 0.9674\n",
            "Epoch 20/30\n",
            "37/37 [==============================] - 2s 49ms/step - loss: 0.0061 - accuracy: 0.9973 - val_loss: 0.2826 - val_accuracy: 0.9348\n",
            "Epoch 21/30\n",
            "37/37 [==============================] - 2s 49ms/step - loss: 0.0361 - accuracy: 0.9918 - val_loss: 0.1809 - val_accuracy: 0.9674\n",
            "Epoch 22/30\n",
            "37/37 [==============================] - 2s 49ms/step - loss: 0.0053 - accuracy: 1.0000 - val_loss: 0.2282 - val_accuracy: 0.9674\n",
            "Epoch 23/30\n",
            "37/37 [==============================] - 2s 49ms/step - loss: 0.0060 - accuracy: 0.9973 - val_loss: 0.2372 - val_accuracy: 0.9674\n",
            "Epoch 24/30\n",
            "37/37 [==============================] - 2s 49ms/step - loss: 0.0023 - accuracy: 1.0000 - val_loss: 0.2090 - val_accuracy: 0.9565\n",
            "Epoch 25/30\n",
            "37/37 [==============================] - 2s 49ms/step - loss: 0.0010 - accuracy: 1.0000 - val_loss: 0.2186 - val_accuracy: 0.9674\n",
            "Epoch 26/30\n",
            "37/37 [==============================] - 2s 49ms/step - loss: 4.4824e-04 - accuracy: 1.0000 - val_loss: 0.2252 - val_accuracy: 0.9674\n",
            "Epoch 27/30\n",
            "37/37 [==============================] - 2s 49ms/step - loss: 6.0615e-04 - accuracy: 1.0000 - val_loss: 0.2251 - val_accuracy: 0.9674\n",
            "Epoch 28/30\n",
            "37/37 [==============================] - 2s 49ms/step - loss: 8.3645e-04 - accuracy: 1.0000 - val_loss: 0.2374 - val_accuracy: 0.9674\n",
            "Epoch 29/30\n",
            "37/37 [==============================] - 2s 49ms/step - loss: 7.4941e-04 - accuracy: 1.0000 - val_loss: 0.2062 - val_accuracy: 0.9674\n",
            "Epoch 30/30\n",
            "37/37 [==============================] - 2s 49ms/step - loss: 0.0024 - accuracy: 1.0000 - val_loss: 0.1848 - val_accuracy: 0.9674\n"
          ],
          "name": "stdout"
        }
      ]
    },
    {
      "cell_type": "code",
      "metadata": {
        "colab_type": "code",
        "outputId": "bf5a16d2-3dc5-4de1-e89a-b7f269a27450",
        "id": "O2j_NUJ0pCYP",
        "colab": {
          "base_uri": "https://localhost:8080/",
          "height": 52
        }
      },
      "source": [
        "model.evaluate(x_test, y_test)"
      ],
      "execution_count": 0,
      "outputs": [
        {
          "output_type": "stream",
          "text": [
            "7/7 [==============================] - 1s 99ms/step - loss: 0.1459 - accuracy: 0.9646\n"
          ],
          "name": "stdout"
        },
        {
          "output_type": "execute_result",
          "data": {
            "text/plain": [
              "[0.14590997993946075, 0.9646464586257935]"
            ]
          },
          "metadata": {
            "tags": []
          },
          "execution_count": 129
        }
      ]
    },
    {
      "cell_type": "code",
      "metadata": {
        "colab_type": "code",
        "id": "UnAlF4ohpCYT",
        "colab": {}
      },
      "source": [
        "y_pred = np.argmax(model.predict(x_test), axis = 1)"
      ],
      "execution_count": 0,
      "outputs": []
    },
    {
      "cell_type": "code",
      "metadata": {
        "colab_type": "code",
        "outputId": "4528c180-d533-404e-85a7-ffadd2148b31",
        "id": "9kNW7LRFpCYV",
        "colab": {
          "base_uri": "https://localhost:8080/",
          "height": 243
        }
      },
      "source": [
        "print(classification_report(y_test, y_pred))\n",
        "print(confusion_matrix(y_test, y_pred))"
      ],
      "execution_count": 0,
      "outputs": [
        {
          "output_type": "stream",
          "text": [
            "              precision    recall  f1-score   support\n",
            "\n",
            "           0       0.96      1.00      0.98        74\n",
            "           1       0.97      0.95      0.96        61\n",
            "           2       0.97      0.94      0.95        63\n",
            "\n",
            "    accuracy                           0.96       198\n",
            "   macro avg       0.96      0.96      0.96       198\n",
            "weighted avg       0.96      0.96      0.96       198\n",
            "\n",
            "[[74  0  0]\n",
            " [ 1 58  2]\n",
            " [ 2  2 59]]\n"
          ],
          "name": "stdout"
        }
      ]
    },
    {
      "cell_type": "code",
      "metadata": {
        "colab_type": "code",
        "outputId": "0251a112-d311-405b-8803-eeee682e97f1",
        "id": "afGvW05WpCYZ",
        "colab": {
          "base_uri": "https://localhost:8080/",
          "height": 338
        }
      },
      "source": [
        "plot_acc_loss(history, len(history.epoch))"
      ],
      "execution_count": 0,
      "outputs": [
        {
          "output_type": "display_data",
          "data": {
            "image/png": "[encoded data removed]",
            "text/plain": [
              "<Figure size 1080x360 with 2 Axes>"
            ]
          },
          "metadata": {
            "tags": [],
            "needs_background": "light"
          }
        }
      ]
    },
    {
      "cell_type": "markdown",
      "metadata": {
        "id": "3RyEoZiLxHE3",
        "colab_type": "text"
      },
      "source": [
        "\n",
        "\n"
      ]
    }
  ]
}